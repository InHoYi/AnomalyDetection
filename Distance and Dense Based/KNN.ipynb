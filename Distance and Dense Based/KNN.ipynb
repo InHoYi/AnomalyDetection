{
 "cells": [
  {
   "cell_type": "code",
   "execution_count": 2,
   "id": "ca060434",
   "metadata": {},
   "outputs": [],
   "source": [
    "from pyod.utils.example import visualize\n",
    "from pyod.utils.data import evaluate_print\n",
    "from pyod.utils.data import generate_data\n",
    "from pyod.models.knn import KNN\n"
   ]
  },
  {
   "cell_type": "code",
   "execution_count": 4,
   "id": "ab8e2d65",
   "metadata": {},
   "outputs": [],
   "source": [
    "X_train, X_test, y_train, y_test = generate_data(n_train = 200,\n",
    "                                                 n_test = 100,\n",
    "                                                 n_features = 2,\n",
    "                                                 contamination = 0.1,\n",
    "                                                 random_state = 42)"
   ]
  },
  {
   "cell_type": "code",
   "execution_count": null,
   "id": "6d96026c",
   "metadata": {},
   "outputs": [
    {
     "data": {
      "text/plain": [
       "(100, 2)"
      ]
     },
     "execution_count": 6,
     "metadata": {},
     "output_type": "execute_result"
    }
   ],
   "source": [
    "model = KNN()\n",
    "model.fit(X_train)"
   ]
  },
  {
   "cell_type": "code",
   "execution_count": null,
   "id": "552c3956",
   "metadata": {},
   "outputs": [],
   "source": []
  }
 ],
 "metadata": {
  "kernelspec": {
   "display_name": "3.8.10",
   "language": "python",
   "name": "python3"
  },
  "language_info": {
   "codemirror_mode": {
    "name": "ipython",
    "version": 3
   },
   "file_extension": ".py",
   "mimetype": "text/x-python",
   "name": "python",
   "nbconvert_exporter": "python",
   "pygments_lexer": "ipython3",
   "version": "3.8.10"
  }
 },
 "nbformat": 4,
 "nbformat_minor": 5
}
