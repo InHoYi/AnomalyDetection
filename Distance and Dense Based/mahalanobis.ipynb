{
 "cells": [
  {
   "cell_type": "code",
   "execution_count": 18,
   "id": "82a469bf",
   "metadata": {},
   "outputs": [],
   "source": [
    "import pandas as pd\n",
    "import numpy as np\n",
    "from sklearn.covariance import EllipticEnvelope\n",
    "from sklearn.datasets import make_blobs"
   ]
  },
  {
   "cell_type": "code",
   "execution_count": 19,
   "id": "9741b6ad",
   "metadata": {},
   "outputs": [],
   "source": [
    "X, _ = make_blobs(n_samples = 300, \n",
    "                  n_features = 2,\n",
    "                  centers = 1,\n",
    "                  random_state = 1)\n",
    "X[0,0] = 10\n",
    "X[0,1] = -10"
   ]
  },
  {
   "cell_type": "code",
   "execution_count": null,
   "id": "49216163",
   "metadata": {},
   "outputs": [],
   "source": [
    "# contamination -> 데이터셋 내 이상 비율\n",
    "# 실제로 설정을 할 때, Recall을 토대로 조절하면 좋지 않을까 싶다.\n",
    "outlier_detector = EllipticEnvelope(contamination = .05) "
   ]
  },
  {
   "cell_type": "code",
   "execution_count": 21,
   "id": "d6b05453",
   "metadata": {},
   "outputs": [],
   "source": [
    "outlier_detector.fit(X)\n",
    "pred = outlier_detector.predict(X)"
   ]
  },
  {
   "cell_type": "code",
   "execution_count": 22,
   "id": "9ed6a38c",
   "metadata": {},
   "outputs": [],
   "source": [
    "df = pd.DataFrame(X, columns=[\"col1\", \"col2\"])\n",
    "df[\"outlier\"] = pred"
   ]
  },
  {
   "cell_type": "code",
   "execution_count": 23,
   "id": "459aa0b8",
   "metadata": {},
   "outputs": [
    {
     "data": {
      "application/vnd.microsoft.datawrangler.viewer.v0+json": {
       "columns": [
        {
         "name": "index",
         "rawType": "int64",
         "type": "integer"
        },
        {
         "name": "col1",
         "rawType": "float64",
         "type": "float"
        },
        {
         "name": "col2",
         "rawType": "float64",
         "type": "float"
        },
        {
         "name": "outlier",
         "rawType": "int64",
         "type": "integer"
        }
       ],
       "ref": "367368af-a148-4341-b32f-a6912ce68181",
       "rows": [
        [
         "0",
         "10.0",
         "-10.0",
         "-1"
        ],
        [
         "1",
         "-0.9755585777665665",
         "4.053079885976147",
         "1"
        ],
        [
         "2",
         "-2.8793043029275522",
         "6.855858517904559",
         "1"
        ],
        [
         "3",
         "-1.6158909127701304",
         "4.180175626329556",
         "1"
        ],
        [
         "4",
         "-1.4612601858217498",
         "4.525498514650621",
         "1"
        ],
        [
         "5",
         "-1.1300945815958103",
         "4.544191078840548",
         "1"
        ],
        [
         "6",
         "-1.7955372320491088",
         "3.609220083350032",
         "1"
        ],
        [
         "7",
         "-0.7587039566841077",
         "3.7227620096688283",
         "1"
        ],
        [
         "8",
         "-2.3064765942034278",
         "5.307976760491872",
         "1"
        ],
        [
         "9",
         "-2.082416867339295",
         "4.492954275367449",
         "1"
        ],
        [
         "10",
         "-1.9185427593490518",
         "4.595783066401819",
         "1"
        ],
        [
         "11",
         "-0.27324564170220067",
         "4.954619453531355",
         "1"
        ],
        [
         "12",
         "-0.10075436532866022",
         "4.515892565268589",
         "1"
        ],
        [
         "13",
         "-2.656579701478202",
         "4.299695882063936",
         "1"
        ],
        [
         "14",
         "-2.767272408233072",
         "4.388771550933019",
         "1"
        ],
        [
         "15",
         "-1.410760744560749",
         "4.109848716472299",
         "1"
        ],
        [
         "16",
         "-2.9915115724657677",
         "2.645801308444378",
         "-1"
        ],
        [
         "17",
         "-4.166000558624581",
         "2.2923259469263355",
         "-1"
        ],
        [
         "18",
         "-1.340520809891421",
         "4.157119493365752",
         "1"
        ],
        [
         "19",
         "-1.7695513961121263",
         "4.415038814279186",
         "1"
        ],
        [
         "20",
         "0.15097500817693676",
         "3.100762946285424",
         "1"
        ],
        [
         "21",
         "-1.8277587456932356",
         "4.232309524535171",
         "1"
        ],
        [
         "22",
         "-0.5279305184970926",
         "5.92630668526536",
         "1"
        ],
        [
         "23",
         "-1.3788948288258804",
         "4.333377165095884",
         "1"
        ],
        [
         "24",
         "-2.8020781039706595",
         "4.057147146430284",
         "1"
        ],
        [
         "25",
         "-3.3337557135674514",
         "5.231519693282148",
         "1"
        ],
        [
         "26",
         "-1.6949278308272304",
         "6.517094922443871",
         "1"
        ],
        [
         "27",
         "-1.9274479855745354",
         "4.9368453355813475",
         "1"
        ],
        [
         "28",
         "-1.9137397735558879",
         "5.806333811324148",
         "1"
        ],
        [
         "29",
         "-2.4897318012636336",
         "3.5259122689989906",
         "1"
        ],
        [
         "30",
         "-1.9657639185768914",
         "5.234464511450407",
         "1"
        ],
        [
         "31",
         "-1.0109162618578522",
         "4.513833162666751",
         "1"
        ],
        [
         "32",
         "-0.4981199242741259",
         "4.3789604825751836",
         "1"
        ],
        [
         "33",
         "-1.198395805971502",
         "3.230507197401846",
         "1"
        ],
        [
         "34",
         "-1.8027556509557572",
         "5.439473647792912",
         "1"
        ],
        [
         "35",
         "-0.04261030709121938",
         "4.909230750843066",
         "1"
        ],
        [
         "36",
         "-2.8197300109307957",
         "5.756596687524888",
         "1"
        ],
        [
         "37",
         "-1.8513954583101344",
         "3.5188609047583252",
         "1"
        ],
        [
         "38",
         "-3.2252980566044247",
         "5.420312335814867",
         "1"
        ],
        [
         "39",
         "-1.6982554152145706",
         "2.7907175141398666",
         "1"
        ],
        [
         "40",
         "-0.19745196890354544",
         "2.3463491593455075",
         "1"
        ],
        [
         "41",
         "-1.2094043931813405",
         "6.171824969362233",
         "1"
        ],
        [
         "42",
         "-0.979490066070415",
         "4.08668826994449",
         "1"
        ],
        [
         "43",
         "-2.279560749896649",
         "5.104521902915381",
         "1"
        ],
        [
         "44",
         "-1.038477205109511",
         "5.362611572967858",
         "1"
        ],
        [
         "45",
         "-1.9860594040267037",
         "3.0638140794657254",
         "1"
        ],
        [
         "46",
         "-1.9819771099620271",
         "4.022435514174746",
         "1"
        ],
        [
         "47",
         "-0.21668297745221032",
         "3.866808306640669",
         "1"
        ],
        [
         "48",
         "-2.5934745615750208",
         "3.8734695427595622",
         "1"
        ],
        [
         "49",
         "-1.3768841937000993",
         "3.580392436995841",
         "1"
        ]
       ],
       "shape": {
        "columns": 3,
        "rows": 300
       }
      },
      "text/html": [
       "<div>\n",
       "<style scoped>\n",
       "    .dataframe tbody tr th:only-of-type {\n",
       "        vertical-align: middle;\n",
       "    }\n",
       "\n",
       "    .dataframe tbody tr th {\n",
       "        vertical-align: top;\n",
       "    }\n",
       "\n",
       "    .dataframe thead th {\n",
       "        text-align: right;\n",
       "    }\n",
       "</style>\n",
       "<table border=\"1\" class=\"dataframe\">\n",
       "  <thead>\n",
       "    <tr style=\"text-align: right;\">\n",
       "      <th></th>\n",
       "      <th>col1</th>\n",
       "      <th>col2</th>\n",
       "      <th>outlier</th>\n",
       "    </tr>\n",
       "  </thead>\n",
       "  <tbody>\n",
       "    <tr>\n",
       "      <th>0</th>\n",
       "      <td>10.000000</td>\n",
       "      <td>-10.000000</td>\n",
       "      <td>-1</td>\n",
       "    </tr>\n",
       "    <tr>\n",
       "      <th>1</th>\n",
       "      <td>-0.975559</td>\n",
       "      <td>4.053080</td>\n",
       "      <td>1</td>\n",
       "    </tr>\n",
       "    <tr>\n",
       "      <th>2</th>\n",
       "      <td>-2.879304</td>\n",
       "      <td>6.855859</td>\n",
       "      <td>1</td>\n",
       "    </tr>\n",
       "    <tr>\n",
       "      <th>3</th>\n",
       "      <td>-1.615891</td>\n",
       "      <td>4.180176</td>\n",
       "      <td>1</td>\n",
       "    </tr>\n",
       "    <tr>\n",
       "      <th>4</th>\n",
       "      <td>-1.461260</td>\n",
       "      <td>4.525499</td>\n",
       "      <td>1</td>\n",
       "    </tr>\n",
       "    <tr>\n",
       "      <th>...</th>\n",
       "      <td>...</td>\n",
       "      <td>...</td>\n",
       "      <td>...</td>\n",
       "    </tr>\n",
       "    <tr>\n",
       "      <th>295</th>\n",
       "      <td>-0.031909</td>\n",
       "      <td>4.744502</td>\n",
       "      <td>1</td>\n",
       "    </tr>\n",
       "    <tr>\n",
       "      <th>296</th>\n",
       "      <td>-2.841878</td>\n",
       "      <td>3.740735</td>\n",
       "      <td>1</td>\n",
       "    </tr>\n",
       "    <tr>\n",
       "      <th>297</th>\n",
       "      <td>-0.614565</td>\n",
       "      <td>5.015005</td>\n",
       "      <td>1</td>\n",
       "    </tr>\n",
       "    <tr>\n",
       "      <th>298</th>\n",
       "      <td>-2.260717</td>\n",
       "      <td>4.962563</td>\n",
       "      <td>1</td>\n",
       "    </tr>\n",
       "    <tr>\n",
       "      <th>299</th>\n",
       "      <td>-1.837192</td>\n",
       "      <td>2.896033</td>\n",
       "      <td>1</td>\n",
       "    </tr>\n",
       "  </tbody>\n",
       "</table>\n",
       "<p>300 rows × 3 columns</p>\n",
       "</div>"
      ],
      "text/plain": [
       "          col1       col2  outlier\n",
       "0    10.000000 -10.000000       -1\n",
       "1    -0.975559   4.053080        1\n",
       "2    -2.879304   6.855859        1\n",
       "3    -1.615891   4.180176        1\n",
       "4    -1.461260   4.525499        1\n",
       "..         ...        ...      ...\n",
       "295  -0.031909   4.744502        1\n",
       "296  -2.841878   3.740735        1\n",
       "297  -0.614565   5.015005        1\n",
       "298  -2.260717   4.962563        1\n",
       "299  -1.837192   2.896033        1\n",
       "\n",
       "[300 rows x 3 columns]"
      ]
     },
     "execution_count": 23,
     "metadata": {},
     "output_type": "execute_result"
    }
   ],
   "source": [
    "df"
   ]
  },
  {
   "cell_type": "code",
   "execution_count": 24,
   "id": "98b42b0a",
   "metadata": {},
   "outputs": [],
   "source": [
    "import matplotlib.pyplot as plt\n",
    "import seaborn as sns"
   ]
  },
  {
   "cell_type": "code",
   "execution_count": 25,
   "id": "b58fccdf",
   "metadata": {},
   "outputs": [
    {
     "data": {
      "image/png": "[encoded data removed]",
      "text/plain": [
       "<Figure size 640x480 with 1 Axes>"
      ]
     },
     "metadata": {},
     "output_type": "display_data"
    }
   ],
   "source": [
    "plt.style.use('dark_background')\n",
    "sns.scatterplot(x = df['col1'], y = df['col2'], hue = df['outlier'])\n",
    "plt.show()"
   ]
  },
  {
   "cell_type": "code",
   "execution_count": null,
   "id": "feb3199d",
   "metadata": {},
   "outputs": [],
   "source": []
  }
 ],
 "metadata": {
  "kernelspec": {
   "display_name": "Python 3",
   "language": "python",
   "name": "python3"
  },
  "language_info": {
   "codemirror_mode": {
    "name": "ipython",
    "version": 3
   },
   "file_extension": ".py",
   "mimetype": "text/x-python",
   "name": "python",
   "nbconvert_exporter": "python",
   "pygments_lexer": "ipython3",
   "version": "3.11.9"
  }
 },
 "nbformat": 4,
 "nbformat_minor": 5
}
